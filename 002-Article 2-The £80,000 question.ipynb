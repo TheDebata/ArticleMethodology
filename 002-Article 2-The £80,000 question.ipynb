{
 "cells": [
  {
   "cell_type": "markdown",
   "metadata": {},
   "source": [
    "# 002-Article 2-The £80,000 question: Why do the rich believe they are anything but?"
   ]
  },
  {
   "cell_type": "code",
   "execution_count": 2,
   "metadata": {},
   "outputs": [
    {
     "data": {
      "text/html": [
       "<style>.container { width:90% !important; }</style>"
      ],
      "text/plain": [
       "<IPython.core.display.HTML object>"
      ]
     },
     "metadata": {},
     "output_type": "display_data"
    },
    {
     "data": {
      "text/html": [
       "<style>.container { width:90% !important; }</style>"
      ],
      "text/plain": [
       "<IPython.core.display.HTML object>"
      ]
     },
     "metadata": {},
     "output_type": "display_data"
    }
   ],
   "source": [
    "from IPython.core.display import display, HTML\n",
    "display(HTML(\"<style>.container { width:90% !important; }</style>\"))\n",
    "\n",
    "from IPython.core.display import display, HTML\n",
    "display(HTML(\"<style>.container { width:90% !important; }</style>\"))\n",
    "\n",
    "import csv\n",
    "\n",
    "\n",
    "def read_csv_as_list_dict(filename, separator, quote):\n",
    "    \"\"\"\n",
    "    Inputs:\n",
    "    filename  - name of CSV file\n",
    "    separator - character that separates fields\n",
    "    quote     - character used to optionally quote fields\n",
    "    Output:\n",
    "    Returns a list of dictionaries where each item in the list\n",
    "    corresponds to a row in the CSV file.  The dictionaries in the\n",
    "    list map the field names to the field values for that row.\n",
    "    \"\"\"\n",
    "    table = []\n",
    "    with open(filename, newline='') as csvfile:\n",
    "        csvreader = csv.DictReader(csvfile, delimiter=separator, quotechar=quote)\n",
    "        for row in csvreader:\n",
    "            table.append(row)\n",
    "    return table\n",
    "\n",
    "\n",
    "def add_list_of_dictionaries_to_CSV(filename, listofobjects):\n",
    "    \"\"\"\n",
    "    Inputs:\n",
    "    filename - the csv file to write the data to\n",
    "    listofobjects - the data to be written out\n",
    "    \"\"\"\n",
    "    \n",
    "    keys = listofobjects[0].keys()\n",
    "    with open(filename, 'w', newline='') as output_file:\n",
    "        dict_writer = csv.DictWriter(output_file, keys)\n",
    "        dict_writer.writeheader()\n",
    "        dict_writer.writerows(listofobjects)\n",
    "    \n",
    "    return []"
   ]
  },
  {
   "cell_type": "markdown",
   "metadata": {},
   "source": [
    "### Background\n",
    "\n",
    "I first learned about this story the day after Question Time aired on BBC One, when the BBC reality check team published [this](https://www.bbc.co.uk/news/50517136) article. I liked the article as an opportunistic move that used a viral moment to provide people with better data on the UK income distribution. However, the Question Time incident itself initially seemed pretty unremarkable - it could easily be headlined _\"one man in sample of one-hundred people significantly misjudges the UK income distribution\"_ - not an earth-shaking or even particularly surprising discovery.\n",
    "\n",
    "But later that week I came across [this tweet](https://twitter.com/mattsmithetc/status/1197812093443067904) from Matthew Smith, a data journalist at YouGov, which shows that people's definition of 'richness' changes as their income levels change. While most people seemed to be judging the £80,000 man as an isolated bit-of-a-plonker, YouGov's data demonstrated that his views were actually more consistent with a typical high-income individual that you might intuitively expect.\n",
    "\n",
    "The Harvard psychologist Dan Ariely coined the term \"predictably irrational\" to describe human behaviours that are neither rational nor erratic and random. These behaviours are key to the disciplines of cognitive psychology and behavioural economics. If people's beliefs are scattered randomly around the objective truth, there's not much to be done other that warn those people against overconfidence. But if we can identify the systematic mistakes that lead person after person to the same erroneous beliefs, people can adjust their behaviour and form new cognitive strategies to mitigate these mistakes.\n",
    "\n",
    "Systematic mistakes are also particularly incidious. Where belief's scatter around the truth at random, better decisions can be made by pooling the views of multiple people (so that, in the long-run, one misconception balances out another). But when everyone is making the same mistakes, we cannot arrive at better decisions and beliefs without behavioural change (even more importantly, systematic errors can be exploited on a mass scale - think of cult followings, advertising and even fascism). \n",
    "\n",
    "To me, YouGov's data transformed the Question Time story from one of random misperception to one of predictable irrationality. As I researched the subject, I discovered that Labour's tax policy was designed specifically to tip-toe around these misperceptions of medium- to high-income earners. The idea that a policy belonging to the more liberal of the two potential governing parties was being determined, in part, by the systematic misjudgments of the country's wealthiest citizens seemed problematic and a story worth telling.\n",
    "\n",
    "Of course, our misjudgments of 'richness' are not purely the product of biases; most people simply do not have a good feel for how much income and wealth other people have. Therefore, I wanted the feature to also provide a nuanced look at inequality in the UK."
   ]
  },
  {
   "cell_type": "markdown",
   "metadata": {},
   "source": [
    "### Labour's tax policy\n",
    "\n",
    "You can view the Question Time exchange [here](https://www.bbc.co.uk/news/av/uk-politics-50514656/question-time-tax-row-i-m-one-of-the-people-labour-will-tax-more). Full episodes of Question Time are also availabe on the BBC website for a year after broadcast - the 21st of November episode is [here](https://www.bbc.co.uk/iplayer/episode/m000bhzc/question-time-2019-21112019)\n",
    "\n",
    "> the Institute for Fiscal Studies (IFS) shared their 'initial reaction' to the Labour Party's manifesto. They described Labour's plans as _\"a very substantial increase in the role of the state\"_ and argued that the party needed to _\"be clear that the tax increases required to do that will need to be widely shared rather than pretending that everything can be paid for by companies and the rich.\"_\n",
    "\n",
    "That report can be viewed [here](https://www.ifs.org.uk/election/2019/article/labour-s-proposed-income-tax-rises-for-high-income-individuals)."
   ]
  },
  {
   "cell_type": "markdown",
   "metadata": {},
   "source": [
    "### Visualisation 1 - Marginal tax rates explained, Labour's tax plans and recent changes to income tax thresholds\n",
    "\n",
    "The marginal tax rates for income tax and national insurance are taken from the [government website](https://www.gov.uk/guidance/rates-and-thresholds-for-employers-2020-to-2021). From the 19/20 financial year to 20/21 income tax rates (unusually) remained constant, but the threshold for paying national insurance contributions increased from £8,632 to £9,500. \n",
    "\n",
    "It was important to include national insurance because this is an often overlooked component of the tax system. Too regularly, we evaluate the progressivity of the tax system by only considering income tax bands, forgetting the impact of the regressive national insurance tax (ideally we would also consider sales taxes - VAT is regressive since low-income earners spend a higher percentage of their income on essential goods and services, while stamp duty and council tax are both broadly progressive).\n",
    "\n",
    "Present calculations of take-home pay for every single permutation of a person's circumstances - do they live in Scotland or England; are they self-employed or PAYE; are they earning through dividends; are they married, blind or over seventy-five - was clear impractical, so it was necessary to establish a 'typical' individual for calculation purposes. The visualisation shows take-home pay during the 20/21 financial year for a person whose personal allowance extends to £12,500 (this figure can vary depending on personal circumstances), and whose entire earnings come through PAYE employment.\n",
    "\n",
    "For the visualisation, I needed to calculate the take-home pay (after income tax only and after income tax and national insurance) for individual's with different incomes. The code below calculates these figures:"
   ]
  },
  {
   "cell_type": "code",
   "execution_count": 6,
   "metadata": {},
   "outputs": [],
   "source": [
    "def CreateTakeHomePayArrays(MarginalTaxRatesObject):\n",
    "    \"\"\"\n",
    "    inputs an object where the keys represent thresholds where the marginal tax rate changes and the values are the rate\n",
    "    of marginal tax paid on income earned below this figure (but above any other key in the array)\n",
    "    \n",
    "    the function then calculates the take home pay at each of these thresholds and outputs an object containing\n",
    "    these values\n",
    "    \"\"\"\n",
    "    \n",
    "    numbArray = list(MarginalTaxRatesObject.keys())\n",
    "\n",
    "    outputObject = {}\n",
    "    \n",
    "    # for each threshold - take the take-home pay of the previous threshold and add on the difference between\n",
    "    # that threshold and this one multiplied one minus by the marginal tax rate\n",
    "    for i, numb in enumerate(numbArray):\n",
    "        \n",
    "        if i == 0:\n",
    "            \n",
    "            outputObject[numb] = numb\n",
    "        \n",
    "        else: \n",
    "            \n",
    "            outputObject[numb] = outputObject[numbArray[i-1]]+(numb-numbArray[i-1])*(1-MarginalTaxRatesObject[numb])\n",
    " \n",
    "    return outputObject"
   ]
  },
  {
   "cell_type": "code",
   "execution_count": null,
   "metadata": {},
   "outputs": [],
   "source": [
    "# calculate take-home pay at values between thresholds - this\n",
    "\n",
    "def CreateExtraDataPoints(PostTaxKeyDataPoints, MarginalTaxRatesObject):\n",
    "    \"\"\"\n",
    "    this function inputs the object (marginal tax threshold: rate on income above threshold) used in the\n",
    "    CreateTakeHomePayArrays and the output of that function - the take home income at those thresholds.\n",
    "    \n",
    "    it then calculates take-home income levels at £500 intervals. \n",
    "    \n",
    "    I transformed the data in this way because it was the simplest solution for allowing readers to hover over\n",
    "    the line charts and view the take-home income for different pre-tax figures. By creating lots of data points\n",
    "    javascript (the in-browser programming language) can simply snap to the nearest £500 value and read the\n",
    "    post-tax value off the imported data, instead of having to interpolate how far between data points the mouse\n",
    "    was hovering.\n",
    "    \"\"\"\n",
    "    outputArray = []\n",
    "    \n",
    "    numbArray = list(MarginalTaxRatesObject.keys())\n",
    "    \n",
    "    xVariable = 0\n",
    "    \n",
    "    while xVariable <= 250000:\n",
    "        \n",
    "        outputObject = {}\n",
    "    \n",
    "        for i, numb in enumerate(numbArray[:len(numbArray)-1]):\n",
    "            \n",
    "            # identify which thresholds the xVariable falls between\n",
    "            \n",
    "            if xVariable > numb and xVariable <= numbArray[i+1]:\n",
    "                \n",
    "                if xVariable <= (numb+500):\n",
    "                    \n",
    "                    outputObjectB = {}\n",
    "                    \n",
    "                    outputObjectB[\"xVariable\"] = numb\n",
    "                    outputObjectB[\"yVariable\"] = PostTaxKeyDataPoints[numb]\n",
    "                    outputObjectB[\"marginalTaxRate\"] = MarginalTaxRatesObject[numbArray[i]]\n",
    "                    \n",
    "                    outputArray.append(outputObjectB)\n",
    "                        \n",
    "                    outputObjectC = {}\n",
    "\n",
    "                    outputObjectC[\"xVariable\"] = numb\n",
    "                    outputObjectC[\"yVariable\"] = PostTaxKeyDataPoints[numb]\n",
    "                    outputObjectC[\"marginalTaxRate\"] = MarginalTaxRatesObject[numbArray[i+1]]\n",
    "\n",
    "                    outputArray.append(outputObjectC)\n",
    "                    \n",
    "                if xVariable not in numbArray or xVariable == 250000:\n",
    "                \n",
    "                    outputObject[\"xVariable\"] = xVariable\n",
    "                    outputObject[\"yVariable\"] = ((xVariable-numb)*(PostTaxKeyDataPoints[numbArray[i+1]])+(numbArray[i+1]-xVariable)*(PostTaxKeyDataPoints[numb]))/(numbArray[i+1]-numb)\n",
    "                    outputObject[\"marginalTaxRate\"] = MarginalTaxRatesObject[numbArray[i+1]]\n",
    "\n",
    "                    outputArray.append(outputObject)\n",
    "    \n",
    "                break\n",
    "                \n",
    "        xVariable += 500\n",
    "                \n",
    "    return outputArray"
   ]
  },
  {
   "cell_type": "code",
   "execution_count": 21,
   "metadata": {},
   "outputs": [],
   "source": [
    "#output data required for visualisation 1 phase 1 (take-home pay and marginal tax rates including and excluding national insurance)\n",
    "\n",
    "marginalTaxThresholdsMasterArray = [ \n",
    "    \n",
    "{\"name\": \"001-understandingMarginalTaxRates-incomeTaxOnlyFor2021\", \"thresholdsObject\": {0: 0, 12500: 0, 50000: 0.2, 100000: 0.4, 125000: 0.6, 150000: 0.4, 250000: 0.45}},\n",
    "{\"name\": \"002-understandingMarginalTaxRates-incomeTaxAndNationalInsuranceFor2021\", \"thresholdsObject\": {0: 0, 9500: 0, 12500: 0.12, 50000: 0.32, 100000: 0.42, 125000: 0.62, 150000: 0.42, 250000: 0.47 }}    \n",
    "   \n",
    "]\n",
    "\n",
    "outputArrayOfObjects = []\n",
    "\n",
    "for i, obj in enumerate(marginalTaxThresholdsMasterArray):\n",
    "    \n",
    "    outputArrayOfObjects.append({\"thresholdsObjectCalculated\": CreateTakeHomePayArrays(obj[\"thresholdsObject\"])})\n",
    "    \n",
    "    outputArrayOfObjects[i][\"extraDataPointsArray\"] = CreateExtraDataPoints(outputArrayOfObjects[i][\"thresholdsObjectCalculated\"], obj[\"thresholdsObject\"])\n",
    "    \n",
    "    add_list_of_dictionaries_to_CSV(\"./Data/Visualisation 1 - Understanding marginal tax rates/Outputs/Visualisation 1 - \"+obj[\"name\"]+\".csv\", outputArrayOfObjects[i][\"extraDataPointsArray\"])"
   ]
  },
  {
   "cell_type": "code",
   "execution_count": 22,
   "metadata": {},
   "outputs": [],
   "source": [
    "#output data required for visualisation 1 phase 2 (take-home pay after income tax only under Labour's proposed income tax policy)\n",
    "\n",
    "marginalTaxThresholdsMasterArray = [ \n",
    "    \n",
    "{\"name\": \"003-laboursIncomeTaxPolicy\", \"thresholdsObject\": {0: 0, 12500: 0, 50000: 0.2, 80000: 0.4, 100000: 0.45, 125000: 0.675, 250000: 0.5}},\n",
    "    \n",
    "]\n",
    "\n",
    "outputArrayOfObjects = []\n",
    "\n",
    "for i, obj in enumerate(marginalTaxThresholdsMasterArray):\n",
    "\n",
    "    outputArrayOfObjects.append({\"thresholdsObjectCalculated\": CreateTakeHomePayArrays(obj[\"thresholdsObject\"])})\n",
    "    \n",
    "    outputArrayOfObjects[i][\"extraDataPointsArray\"] = CreateExtraDataPoints(outputArrayOfObjects[i][\"thresholdsObjectCalculated\"], obj[\"thresholdsObject\"])\n",
    "    \n",
    "    add_list_of_dictionaries_to_CSV(\"./Data/Visualisation 1 - Understanding marginal tax rates/Outputs/Visualisation 1 - \"+obj[\"name\"]+\".csv\", outputArrayOfObjects[i][\"extraDataPointsArray\"])"
   ]
  },
  {
   "cell_type": "markdown",
   "metadata": {},
   "source": [
    "Historical income tax thresholds were calculated by taking [this](https://assets.publishing.service.gov.uk/government/uploads/system/uploads/attachment_data/file/792502/Table-a2.pdf) data from  the government website which provides historical tax rates excluding the personal allowance, and [this](https://assets.publishing.service.gov.uk/government/uploads/system/uploads/attachment_data/file/792497/Table-a1.pdf) data which provides information on the \"typical\" tax-free personal allowance and also looks at how various circumstances have affected the personal allowance over time.\n",
    "\n",
    "The financial years chosen for final publication were those with the biggest changes in policy from the previous year.\n",
    "\n",
    "The inflation-adjusted marginal tax rates are based on the March 2010 (89.4) and March 2020 (108.6) Consumer Price Index figures published by the [National Office of Statistics](https://www.ons.gov.uk/economy/inflationandpriceindices/datasets/consumerpriceinflation). The idea is that if tax rates have kept up with inflation, a tax-free personal allowance of £6,475 in 2010 would have risen to: \n",
    "\n",
    "$$\\frac{108.6}{89.4}6475 = 7866$$"
   ]
  },
  {
   "cell_type": "code",
   "execution_count": 23,
   "metadata": {},
   "outputs": [],
   "source": [
    "#output data required for visualisation 1 phase 3 (historical marginal tax rates)\n",
    "\n",
    "marginalTaxThresholdsMasterArray = [ \n",
    "    \n",
    "{\"name\": \"004-marginalTaxRates-200910\", \"thresholdsObject\": {0: 0, 6475: 0, 43875: 0.2, 250000: 0.4}},\n",
    "{\"name\": \"005-marginalTaxRates-201011\", \"thresholdsObject\": {0: 0, 6475: 0, 43875: 0.2, 100000: 0.4,  112950: 0.6, 150000: 0.4, 250000: 0.5}},\n",
    "\n",
    "{\"name\": \"006-marginalTaxRates-201314\", \"thresholdsObject\": {0: 0, 9440: 0, 41450: 0.2, 100000: 0.4,  118880: 0.6, 150000: 0.4, 250000: 0.45}},\n",
    "{\"name\": \"007-marginalTaxRates-201516\", \"thresholdsObject\": {0: 0, 10600: 0, 42385: 0.2, 100000: 0.4,  121200: 0.6, 150000: 0.4, 250000: 0.45}},\n",
    "\n",
    "{\"name\": \"008-marginalTaxRates-201011-inflationAdjusted\", \"thresholdsObject\": {0: 0, 7866: 0, 53298: 0.2, 121477: 0.4,  137208: 0.6, 182215: 0.4, 250000: 0.5}},\n",
    "]\n",
    "\n",
    "outputArrayOfObjects = []\n",
    "\n",
    "for i, obj in enumerate(marginalTaxThresholdsMasterArray):\n",
    "    \n",
    "    outputArrayOfObjects.append({\"thresholdsObjectCalculated\": CreateTakeHomePayArrays(obj[\"thresholdsObject\"])})\n",
    "    \n",
    "    outputArrayOfObjects[i][\"extraDataPointsArray\"] = CreateExtraDataPoints(outputArrayOfObjects[i][\"thresholdsObjectCalculated\"], obj[\"thresholdsObject\"])\n",
    "    \n",
    "    add_list_of_dictionaries_to_CSV(\"./Data/Visualisation 1 - Understanding marginal tax rates/Outputs/Visualisation 1 - \"+obj[\"name\"]+\".csv\", outputArrayOfObjects[i][\"extraDataPointsArray\"])\n"
   ]
  },
  {
   "cell_type": "markdown",
   "metadata": {},
   "source": [
    "The Institute of Fiscal Studies report that demonstrates that high earners have been slipping into higher tax thresholds because the recovery threshold for the personal allowance has not move in the past decade was title ['Dragging people into higher rates of tax'](https://www.ifs.org.uk/publications/14048) and was published in April 2019."
   ]
  },
  {
   "cell_type": "markdown",
   "metadata": {},
   "source": [
    "### Visualisation 2 - What does the UK income distribution look like?\n",
    "\n",
    "The first graph takes the same data plotted in the BBC reality check article ['General election 2019: Does £80,000 put you in the top 5% of earners?'](https://www.bbc.co.uk/news/50517136). Namely, this is the distribution of income tax payers for the 2016/17 financial year published by [HMRC](https://www.gov.uk/government/statistics/percentile-points-from-1-to-99-for-total-income-before-and-after-tax).\n",
    "\n",
    "For uplifting income levels from 2016/17 to 'projected' current income levels, I used the [Average Weekly Earnings](https://www.ons.gov.uk/employmentandlabourmarket/peopleinwork/earningsandworkinghours/datasets/averageweeklyearningsearn01) data published by the Office for National Statistics. It shows that the average weekly earnings for the whole economy across the financial year were £496. In February 2020 (the most up-to-date figures at time of publication) average weekly earnings were £545. Therefore, the uplift figure was  $\\frac{545}{496}-1=9.8\\%$.\n",
    "\n",
    "The World Inequality Lab data can be accessed [here](https://wid.world/country/united-kingdom/). The most up-to-date data at the time of publication was from 2016. I could have tried to adjust this to the 2016/17 financial year using the Average Weekly Earnings data as a proxy adjustment factor, but I decided not to because I wanted to keep the calculations as simple and easy to follow as possible. For the same reason, I decided to uplift the World Inequality Lab data by the same 9.8% adjustment factor."
   ]
  },
  {
   "cell_type": "markdown",
   "metadata": {},
   "source": [
    "### Motivations behind Labour's tax policy\n",
    "\n",
    "> Because the party was unwilling to ask middle-income earners to pay more, as they do in countries with greater government spending like Finland and Denmark, it necessitated putting a heavy burden on corporation tax to raise revenue.\n",
    "\n",
    "In Finland, the tax-free personal allowance is €18,100. On additional income up to €27,200 the marginal tax rate is 6%. On additional income up to €44,800 the marginal tax rate is 17.25%. On additional income up to €78,500 the marginal tax rate is 21.25%. And income above €78,500 is taxed at a rate of 31.25%. Additionally, all residents pay a flat local income tax of between 16.5% and 23.5% depending on the municipality ([source](https://taxsummaries.pwc.com/finland/individual/taxes-on-personal-income))\n",
    "\n",
    "Greater government spending is defined as a share of the country's GDP. These figures are plotted by the Data Website [Our World In Data](https://ourworldindata.org/government-spendinghttps://ourworldindata.org/government-spending) and show that Denmark and Finland spend 7 and 9 percentage points more of their GDP respectively than the UK.\n",
    "\n",
    "> Both Owen Jones at The Guardian and Stephen Bush at the New Statesman reported that the £80,000 figure was chosen, instead of a lower figure of £50,000, because internal polling indicated that while few people earn £50,000 (just 10% of taxpayers), many saw it as a realistic future income. \n",
    "\n",
    "Owen Jones stated this in ['Corbyn and McDonnell tax radicals? I say they aren’t radical enough '](https://www.theguardian.com/commentisfree/2018/feb/15/corbyn-mcdonnell-tax-radical-labour), an opinion piece published in the Guardian in February 2018. Stephen Bush made the same point in [this](https://www.newstatesman.com/politics/economy/2018/11/how-labour-s-tax-wobbles-may-help-conservatives-win-back-lost-voters) November 2018 article for the New Statesman.\n",
    "\n",
    "> In April 2017, Shadow Chancellor John McDonnell announced that the rich, by which he meant individuals earning over £70,000 to £80,000 a year, would be expected to pay more under a future Labour government. \n",
    "\n",
    "McDonnell said this during an interview on the BBC's Today programme and it was widely reported, including in [this](https://www.theguardian.com/money/2017/apr/19/how-much-earn-rich-70000-labour) article for the Guardian.\n",
    "\n",
    "> ...YouGov published data showing what the general public thinks constitutes 'rich'.\n",
    "\n",
    "You can read about YouGov's results and view the raw data [here](https://yougov.co.uk/topics/politics/articles-reports/2017/06/02/how-much-money-do-you-need-earn-year-be-rich)."
   ]
  },
  {
   "cell_type": "markdown",
   "metadata": {},
   "source": [
    "### Visualisation 3 - Factors other than income that affect a person's financial prosperity\n",
    "\n",
    "The regional income distribution data was taken from the [provisional 2019 figures](https://www.ons.gov.uk/employmentandlabourmarket/peopleinwork/earningsandworkinghours/datasets/placeofresidencebylocalauthorityashetable8) published by the Office of National Statistics as part of the Annual Survey of Hours and Earnings (ASHE). For these figures, the unit is not individuals but full-time employee jobs. \n",
    "\n",
    "The percentiles in between the provided figures were interpolated using HMRC's UK-wide employee earnings as a proxy. \n",
    "\n",
    "For example, if the 11th percentile lower threshold was £20,000 and the 21st percentile lower threshold was £25,000 for Region A, to interpolate the 16th percentile I would check HMRC's UK-wide distribution for these figures (they are £13,300, £14,400 and £15,500) and use them in the following calculation:\n",
    "\n",
    "$$ RegionA(p16) = (25000-20000)\\frac{14400-13300}{15500-13300}+20000 $$\n",
    "\n",
    "This interpolation was conducted using the code below. Ultimately, the approach makes little impact compared to assuming a linear relationship between percentile and pre-tax earnings for the percentiles between published figures."
   ]
  },
  {
   "cell_type": "code",
   "execution_count": 5,
   "metadata": {},
   "outputs": [],
   "source": [
    "#Import Data\n",
    "ASHERegionIncomeData = read_csv_as_list_dict(\"./Data/Visualisation 3 - Variations in income and wealth/CSV/Visualisation 3 - ASHE percentile data points by region.csv\", \",\", '\"')\n",
    "\n",
    "HMRCIncomeTaxPayerData = read_csv_as_list_dict(\"./Data/Visualisation 3 - Variations in income and wealth/CSV/Visualisation 3 - HMRC income tax payer data.csv\", \",\", '\"')"
   ]
  },
  {
   "cell_type": "code",
   "execution_count": 12,
   "metadata": {},
   "outputs": [],
   "source": [
    "def ConvertArrayOfObjectsToSingleObject(ArrayOfObjects, XFieldName, YFieldName):\n",
    "    \"\"\"\n",
    "    This function simply convert the imported data (which is in list format) into an object.\n",
    "    \"\"\"\n",
    "    \n",
    "    outputObject = {}\n",
    "    \n",
    "    for obj in ArrayOfObjects:\n",
    "        \n",
    "        outputObject[obj[XFieldName]] = obj[YFieldName]\n",
    "    \n",
    "    return outputObject\n",
    "\n",
    "HMRCIncomeTaxPayerDataObject = ConvertArrayOfObjectsToSingleObject(HMRCIncomeTaxPayerData, \"Percentile\", \"Pretax income\")\n",
    "\n",
    "\n",
    "def CreateExtraDataPoints(MainDataPointsObject, ProxyDataObject, Classification):\n",
    "    \"\"\"\n",
    "    Takes as input the published data points for a given region, the HMRC full income distribution being used as a proxy\n",
    "    and the region name (which is simply used to name the outputted object)\n",
    "    \n",
    "    The function interpolate income thresholds for the percentiles between the published data points\n",
    "    \"\"\"\n",
    "    outputArray = []\n",
    "    \n",
    "    mainDataPointsXValuesArray = [11,21,31,41,51,61,71,81,91]\n",
    "    \n",
    "    for numb in range(11,92):\n",
    "        \n",
    "        outputObject = {}\n",
    "        \n",
    "        outputObject[\"classification\"] = Classification\n",
    "        outputObject[\"xVariable\"] = numb\n",
    "        \n",
    "        if numb in mainDataPointsXValuesArray:\n",
    "            \n",
    "            if MainDataPointsObject[str(numb)] == \"NULL\":\n",
    "                \n",
    "                outputObject[\"yVariable\"] = \"NULL\"\n",
    "            \n",
    "            else:\n",
    "                \n",
    "                outputObject[\"yVariable\"] = MainDataPointsObject[str(numb)]\n",
    "            \n",
    "        else:\n",
    "            \n",
    "            for i, d in enumerate(mainDataPointsXValuesArray):\n",
    "                \n",
    "                if numb > d and numb < mainDataPointsXValuesArray[i+1]:\n",
    "                    \n",
    "                    lowerBound = d\n",
    "                    upperBound = mainDataPointsXValuesArray[i+1]\n",
    "                    \n",
    "                    if MainDataPointsObject[str(lowerBound)] == \"NULL\" or MainDataPointsObject[str(upperBound)] == \"NULL\":\n",
    "                        \n",
    "                        outputObject[\"yVariable\"] = \"NULL\"\n",
    "                        \n",
    "                    else:\n",
    "                    \n",
    "                        lowerBoundYVariable = float(MainDataPointsObject[str(lowerBound)])\n",
    "                        upperBoundYVariable = float(MainDataPointsObject[str(upperBound)])\n",
    "\n",
    "                        proxyLowerBoundYVariable = float(ProxyDataObject[str(lowerBound)])\n",
    "                        proxyUpperBoundYVariable = float(ProxyDataObject[str(upperBound)])\n",
    "\n",
    "                        proxyDYVariable = float(ProxyDataObject[str(numb)])\n",
    "\n",
    "                        ratio = (proxyDYVariable - proxyLowerBoundYVariable)/(proxyUpperBoundYVariable - proxyLowerBoundYVariable)\n",
    "\n",
    "\n",
    "                        outputObject[\"yVariable\"] = ratio*(upperBoundYVariable - lowerBoundYVariable) + lowerBoundYVariable\n",
    "                    \n",
    "    \n",
    "        outputArray.append(outputObject)\n",
    "    \n",
    "    return outputArray"
   ]
  },
  {
   "cell_type": "code",
   "execution_count": 14,
   "metadata": {},
   "outputs": [
    {
     "data": {
      "text/plain": [
       "[]"
      ]
     },
     "execution_count": 14,
     "metadata": {},
     "output_type": "execute_result"
    }
   ],
   "source": [
    "OutputArray = []\n",
    "\n",
    "#for each region, interpolate figures between published data points\n",
    "\n",
    "for obj in ASHERegionIncomeData:\n",
    "\n",
    "    OutputArray += CreateExtraDataPoints(obj, HMRCIncomeTaxPayerDataObject, obj[\"Region\"])\n",
    "    \n",
    "\n",
    "#Output Data\n",
    "add_list_of_dictionaries_to_CSV(\"./Data/Visualisation 3 - Variations in income and wealth/Outputs/Visualisation 3 - percentile earnings data by region.csv\", OutputArray)"
   ]
  },
  {
   "cell_type": "markdown",
   "metadata": {},
   "source": [
    "The wealth distribution data is lifted directly from Figure 5 of the [Total wealth in Great Britain: April 2016 to March 2018](https://www.ons.gov.uk/peoplepopulationandcommunity/personalandhouseholdfinances/incomeandwealth/bulletins/totalwealthingreatbritain/april2016tomarch2018) report published by the Office for National Statistics.\n",
    "\n",
    "The report is based on the Wealth and Assets Survey and full methodology for the survey can be read [here](https://www.ons.gov.uk/peoplepopulationandcommunity/personalandhouseholdfinances/debt/methodologies/wealthandassetssurveyqmi). \n",
    "The survey is based on continuous data collection between April 2016 and March 2018. Net wealth is the sum value of all assets minus the value of all liabilities.According to the Office of National Statistics, the self-evaluation of wealth used by the\n",
    "Wealth and Assets Survey typically yields higher estimates than other methods.\n",
    "\n",
    "The data for income by household composition comes from [analysis](https://www.gov.uk/government/statistics/family-resources-survey-financial-year-201718) published by the Department of Work and Pensions based on the Family Resource Survey for 2017/18."
   ]
  },
  {
   "cell_type": "markdown",
   "metadata": {},
   "source": [
    "### How do our perceptions of richness change as our income levels change?\n",
    "\n",
    "> YouGov repeated the survey in America in 2018, finding the same results. 67% of those earning below \\\\$60,000 considered a person earning \\\\$100,000 to be rich, whereas just 27% of people with incomes above \\\\$90,000 agreed.\n",
    "\n",
    "A summary of YouGov's results in America and the raw survey data can be found [here](https://today.yougov.com/topics/economy/articles-reports/2019/01/14/how-much-money-do-you-need-earn-year-be-rich). The study was essentially identical to their UK study a year earlier.\n",
    "\n",
    "> Richard Reeves, a senior fellow at the Brookings Institution, has described this link between income levels and perceptions of richness as the ' \"Me? I'm not rich!\" problem.' He has argued that the relationship makes implementing progressive tax reform more difficult.\n",
    "\n",
    "Reeves talks about the problem in [this](https://www.brookings.edu/opinions/wealth-inequality-and-the-me-im-not-rich-problem/)\n",
    "2015 article for the Brookings Institute. \n",
    "\n",
    "> ...For example, in 2015, former US president Barack Obama abandoned his plans to reduce tax breaks on college saving plans. The beneficiaries of the tax were mainly rich: the White House estimated that households with incomes over $200,000 received 70% of the tax breaks. \n",
    "\n",
    "In his article for the Brookings Institute, Reeves cites [this](https://blogs.wsj.com/washwire/2015/01/27/what-the-demise-of-obamas-529-plan-says-about-tax-reform/) story from the Wall Street Journal about Obama's plan for tax breaks on college saving plans. \n",
    "\n",
    "Guillermo Cruces, Martin Tetaz and Ricardo Perez-Truglia's research paper was title ['Biased perceptions of income distribution and preferences for redistribution: Evidence from a survey experiment'](https://www.researchgate.net/publication/309823043_Biased_perceptions_of_income_distribution_and_preferences_for_redistribution_Evidence_from_a_survey_experiment) and was published in the Journal of Public Economics in January 2013.\n",
    "\n",
    "> The British Social Attitudes Survey asked a similar question in 2005. They found that only six in every one-hundred participants believed they were in the richest 20% of households (and just nine in every one-hundred believed they were in the bottom 20%).\n",
    "\n",
    "Unfortunately, historical versions of the British Social Attitudes Survey are kept behind a steep paywall, but the figure is referenced in an interesting qualitative study by Ipsos-Moi called ['https://www.ipsos.com/ipsos-mori/en-uk/opinion-high-earners-2007-qualitative-research'](https://www.ipsos.com/ipsos-mori/en-uk/opinion-high-earners-2007-qualitative-research).\n",
    "\n",
    ">There has been extensive research looking at the neurological and psychological effects of poverty. It has shown that, separated from objective levels of income, people's perception of their socioeconomic status - whether they feel poor - has a significant impact on chronic stress levels, physical health, mental health and cognitive development.\n",
    "\n",
    "For more detail on this subject I would recommend 'The Inner Level: How More Equal Societies Reduce Stress, Restore Sanity and Improve Everyone’s Well-being' by Richard Wilkinson and Kate Pickett. In my opinion, _the_ definitive book on human behaviour 'Behave: The Biology of Humans at Our Best and Worst' by Robert M. Sapolsky also looks in detail at the neurological implications of perceptions of social status."
   ]
  },
  {
   "cell_type": "markdown",
   "metadata": {},
   "source": [
    "### Visualisation 5 - How do earnings vary by occupation?\n",
    "\n",
    "Like the regional data, the income distributions by occupation data was taken from the [provisional 2019 figures](https://www.ons.gov.uk/employmentandlabourmarket/peopleinwork/earningsandworkinghours/datasets/regionbyoccupation2digitsocashetable3) published by the Office of National Statistic as part of the Annual Survey of Hours and Earnings (ASHE).\n",
    "\n",
    "Three of the occupations to visualise were chosen for me; the earnings of doctors, solicitors and accountants were clearly of interest given Mr Smith's assertion that they all earn in excess of £80,000 a year. For the remaining twenty-one occupations, I aimed to select a diverse range of jobs that would be of interest to the reader. I also tried to select jobs for which there was a high quality of data.\n",
    "\n",
    "Percentile figures were interpolated using the same method as for Visualisation 3."
   ]
  },
  {
   "cell_type": "code",
   "execution_count": 15,
   "metadata": {},
   "outputs": [
    {
     "data": {
      "text/plain": [
       "[]"
      ]
     },
     "execution_count": 15,
     "metadata": {},
     "output_type": "execute_result"
    }
   ],
   "source": [
    "ASHEOccupationIncomeData = read_csv_as_list_dict(\"./Data/Visualisation 5 - Income distribution by occupation/CSV/Visualisation 5 - ASHE percentile data points by occupation.csv\", \",\", '\"')\n",
    "\n",
    "HMRCIncomeTaxPayerData = read_csv_as_list_dict(\"./Data/Visualisation 5 - Income distribution by occupation/CSV/Visualisation 5 - HMRC income tax payer data.csv\", \",\", '\"')\n",
    "\n",
    "#convert array of objects into a single object\n",
    "HMRCIncomeTaxPayerDataObject = ConvertArrayOfObjectsToSingleObject(HMRCIncomeTaxPayerData, \"Percentile\", \"Pretax income\")\n",
    "\n",
    "OutputArray = []\n",
    "\n",
    "for obj in ASHEOccupationIncomeData:\n",
    "\n",
    "    OutputArray += CreateExtraDataPoints(obj, HMRCIncomeTaxPayerDataObject, obj[\"OccupationCode\"])\n",
    "    \n",
    "\n",
    "#Output Data\n",
    "add_list_of_dictionaries_to_CSV(\"./Data/Visualisation 5 - Income distribution by occupation/Outputs/Visualisation 5 - percentile earnings data by occupation.csv\", OutputArray)"
   ]
  },
  {
   "cell_type": "markdown",
   "metadata": {},
   "source": [
    "The referenced interiew with Natalie Schmook for the American magazine Fast Car can be read [here](https://www.fastcompany.com/90330573/who-is-actually-middle-class).\n",
    "\n",
    "> For example, when Labour first announced their proposed tax increase on incomes over £80,000, the Telegraph described it as a “raid on the middle classes.\" \n",
    "\n",
    "An article published by the telegraph on May 16th 2017 was titled ['Labour faces £30bn 'black hole' in spending plans as Corbyn launches tax raid on middle classes'](https://www.telegraph.co.uk/news/2017/05/16/general-election-2017-jeremy-corbyns-manifesto-will-hit-nearly/).\n",
    "\n",
    "> In January, leadership candidate Lisa Nandy (now shadow foreign secretary) was asked by the Evening Standard if she would be prepared to raise the basic income tax rate and replied:<br><br> \n",
    "_\"I do not believe that you can go to the country and argue for the level of investment in public services that we did at the last election without being honest and clear about where that money comes from. And that does mean raising money through tax revenue.\"_\n",
    "\n",
    "That article was published on January 30th and titled ['Lisa Nandy demands Labour Party publishes in full secret report on the anti-Semitism scandal'](https://www.standard.co.uk/news/politics/lisa-nandy-anti-semitism-scandal-secret-report-a4349066.html)."
   ]
  },
  {
   "cell_type": "code",
   "execution_count": null,
   "metadata": {},
   "outputs": [],
   "source": []
  }
 ],
 "metadata": {
  "kernelspec": {
   "display_name": "Python 3",
   "language": "python",
   "name": "python3"
  },
  "language_info": {
   "codemirror_mode": {
    "name": "ipython",
    "version": 3
   },
   "file_extension": ".py",
   "mimetype": "text/x-python",
   "name": "python",
   "nbconvert_exporter": "python",
   "pygments_lexer": "ipython3",
   "version": "3.7.3"
  }
 },
 "nbformat": 4,
 "nbformat_minor": 2
}
